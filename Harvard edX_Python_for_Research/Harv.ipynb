{
  "metadata": {
    "kernelspec": {
      "name": "python",
      "display_name": "Python (Pyodide)",
      "language": "python"
    },
    "language_info": {
      "codemirror_mode": {
        "name": "python",
        "version": 3
      },
      "file_extension": ".py",
      "mimetype": "text/x-python",
      "name": "python",
      "nbconvert_exporter": "python",
      "pygments_lexer": "ipython3",
      "version": "3.8"
    }
  },
  "nbformat_minor": 4,
  "nbformat": 4,
  "cells": [
    {
      "cell_type": "markdown",
      "source": "# Harvard EdX Final Project",
      "metadata": {}
    },
    {
      "cell_type": "markdown",
      "source": "### This project was submitted in fulfillment of the final project for the Harvard edX course: Using Python for Research.  The following instructions were provided: \n\n#### \"Your goal is to classify different physical activities as accurately as possible. To test your code, you're also provided a file called test_time_series.csv, and at the end of the project you're asked to provide the activity labels predicted by your code for this test data set. Only the course staff have the corresponding true labels for the test data, and the accuracy of your code will be determined as the percentage of correct classifications. Note that in both cases, for training and testing, the input file consists of a single (3-dimensional) time series. To test the accuracy of your code, you'll be asked to upload your predictions as a CSV file. This file called test_labels.csv is provided to you, but it only contains the time stamps needed for prediction; you'll need to augment this file by adding the corresponding class predictions (1,2,3,4).\"",
      "metadata": {}
    },
    {
      "cell_type": "code",
      "source": "# 1.  import standard packages\nimport sklearn\nimport matplotlib.pyplot as plt\nimport numpy as np\nimport pandas as pd\nimport scipy.stats as ss\nfrom sklearn import datasets\nfrom sklearn import metrics\nfrom sklearn.metrics import accuracy_score\nfrom sklearn.metrics import r2_score\nfrom sklearn.model_selection import train_test_split\nfrom sklearn.neighbors import KNeighborsClassifier\nfrom sklearn.metrics import classification_report\nimport time",
      "metadata": {
        "trusted": true
      },
      "outputs": [],
      "execution_count": 35
    },
    {
      "cell_type": "code",
      "source": "# Read in necessary files\nstart_0=time.perf_counter()\ndf_train_ts = pd.read_csv(\"data/train_time_series.csv\")\n\ndf_train_labels = pd.read_csv(\"data/train_labels.csv\")\n\ndf_test_ts = pd.read_csv(\"data/test_time_series.csv\")\n\ndf_test_labels = pd.read_csv(\"data/test_labels.csv\")",
      "metadata": {
        "trusted": true
      },
      "outputs": [],
      "execution_count": 36
    },
    {
      "cell_type": "code",
      "source": "#view the datasets\n\nprint(\"Train_TS:\")\nprint(df_train_ts)\nprint(\"Train_Labels\")\nprint(df_train_labels)\nprint(\"Test_TS: \")\nprint(df_test_ts)\nprint(\"Test_Labels\")\nprint(df_test_labels)",
      "metadata": {
        "trusted": true
      },
      "outputs": [
        {
          "name": "stdout",
          "text": "Train_TS:\n      Unnamed: 0     timestamp                 UTC time accuracy         x  \\\n0          20586  1.565110e+12  2019-08-06T16:45:30.787  unknown -0.006485   \n1          20587  1.565110e+12  2019-08-06T16:45:30.887  unknown -0.066467   \n2          20588  1.565110e+12  2019-08-06T16:45:30.987  unknown -0.043488   \n3          20589  1.565110e+12  2019-08-06T16:45:31.087  unknown -0.053802   \n4          20590  1.565110e+12  2019-08-06T16:45:31.188  unknown -0.054031   \n...          ...           ...                      ...      ...       ...   \n3739       24325  1.565110e+12  2019-08-06T16:51:45.638  unknown  0.024384   \n3740       24326  1.565110e+12  2019-08-06T16:51:45.738  unknown  0.487228   \n3741       24327  1.565110e+12  2019-08-06T16:51:45.838  unknown  0.369446   \n3742       24328  1.565110e+12  2019-08-06T16:51:45.939  unknown  0.167877   \n3743       24329  1.565110e+12  2019-08-06T16:51:46.039  unknown  0.689346   \n\n             y         z  \n0    -0.934860 -0.069046  \n1    -1.015442  0.089554  \n2    -1.021255  0.178467  \n3    -0.987701  0.068985  \n4    -1.003616  0.126450  \n...        ...       ...  \n3739 -0.710709  0.030304  \n3740 -1.099136 -0.015213  \n3741 -0.968506  0.036713  \n3742 -0.802826  0.049805  \n3743 -0.991043  0.034973  \n\n[3744 rows x 7 columns]\nTrain_Labels\n     Unnamed: 0     timestamp                 UTC time  label\n0         20589  1.565110e+12  2019-08-06T16:45:31.087      1\n1         20599  1.565110e+12  2019-08-06T16:45:32.090      1\n2         20609  1.565110e+12  2019-08-06T16:45:33.092      1\n3         20619  1.565110e+12  2019-08-06T16:45:34.094      1\n4         20629  1.565110e+12  2019-08-06T16:45:35.097      1\n..          ...           ...                      ...    ...\n370       24289  1.565110e+12  2019-08-06T16:51:42.030      4\n371       24299  1.565110e+12  2019-08-06T16:51:43.032      4\n372       24309  1.565110e+12  2019-08-06T16:51:44.034      4\n373       24319  1.565110e+12  2019-08-06T16:51:45.037      4\n374       24329  1.565110e+12  2019-08-06T16:51:46.039      4\n\n[375 rows x 4 columns]\nTest_TS: \n      Unnamed: 0      timestamp                 UTC time accuracy         x  \\\n0          24330  1565110306139  2019-08-06T16:51:46.139  unknown  0.034286   \n1          24331  1565110306239  2019-08-06T16:51:46.239  unknown  0.409164   \n2          24332  1565110306340  2019-08-06T16:51:46.340  unknown -0.234390   \n3          24333  1565110306440  2019-08-06T16:51:46.440  unknown  0.251114   \n4          24334  1565110306540  2019-08-06T16:51:46.540  unknown  0.109924   \n...          ...            ...                      ...      ...       ...   \n1245       25575  1565110430975  2019-08-06T16:53:50.975  unknown  0.036499   \n1246       25576  1565110431075  2019-08-06T16:53:51.075  unknown -0.159241   \n1247       25577  1565110431175  2019-08-06T16:53:51.175  unknown -0.037964   \n1248       25578  1565110431275  2019-08-06T16:53:51.275  unknown  0.255707   \n1249       25579  1565110431376  2019-08-06T16:53:51.376  unknown -0.089462   \n\n             y         z  \n0    -1.504456  0.157623  \n1    -1.038544  0.030975  \n2    -0.984558  0.124771  \n3    -0.787003  0.054810  \n4    -0.169510  0.235550  \n...        ...       ...  \n1245 -0.724823  0.553802  \n1246  0.307022  0.142410  \n1247 -0.673706  1.065445  \n1248 -1.485397 -0.013336  \n1249 -0.734573 -0.100876  \n\n[1250 rows x 7 columns]\nTest_Labels\n     Unnamed: 0     timestamp                 UTC time  label\n0         24339  1.565110e+12  2019-08-06T16:51:47.041    NaN\n1         24349  1.565110e+12  2019-08-06T16:51:48.043    NaN\n2         24359  1.565110e+12  2019-08-06T16:51:49.046    NaN\n3         24369  1.565110e+12  2019-08-06T16:51:50.048    NaN\n4         24379  1.565110e+12  2019-08-06T16:51:51.050    NaN\n..          ...           ...                      ...    ...\n120       25539  1.565110e+12  2019-08-06T16:53:47.366    NaN\n121       25549  1.565110e+12  2019-08-06T16:53:48.369    NaN\n122       25559  1.565110e+12  2019-08-06T16:53:49.371    NaN\n123       25569  1.565110e+12  2019-08-06T16:53:50.373    NaN\n124       25579  1.565110e+12  2019-08-06T16:53:51.376    NaN\n\n[125 rows x 4 columns]\n",
          "output_type": "stream"
        }
      ],
      "execution_count": 37
    },
    {
      "cell_type": "code",
      "source": "# Prepare data and establish X and y\nX = df_train_ts.iloc[3::10].drop('UTC time', axis = 1)\nX = X.drop('accuracy', axis =1)\ny = df_train_labels['label']\n",
      "metadata": {
        "trusted": true
      },
      "outputs": [],
      "execution_count": 38
    },
    {
      "cell_type": "code",
      "source": "#view altered datasets\nprint(X)\nprint(y)",
      "metadata": {
        "trusted": true
      },
      "outputs": [
        {
          "name": "stdout",
          "text": "      Unnamed: 0     timestamp         x         y         z\n3          20589  1.565110e+12 -0.053802 -0.987701  0.068985\n13         20599  1.565110e+12  0.013718 -0.852371 -0.000870\n23         20609  1.565110e+12  0.145584 -1.007843 -0.036819\n33         20619  1.565110e+12 -0.099380 -1.209686  0.304489\n43         20629  1.565110e+12  0.082794 -1.001434 -0.025375\n...          ...           ...       ...       ...       ...\n3703       24289  1.565110e+12 -0.641953 -1.469177  0.301041\n3713       24299  1.565110e+12 -0.171616 -0.366074 -0.059082\n3723       24309  1.565110e+12  0.401810 -1.077698  0.258911\n3733       24319  1.565110e+12  0.330338 -1.470062  0.303894\n3743       24329  1.565110e+12  0.689346 -0.991043  0.034973\n\n[375 rows x 5 columns]\n0      1\n1      1\n2      1\n3      1\n4      1\n      ..\n370    4\n371    4\n372    4\n373    4\n374    4\nName: label, Length: 375, dtype: int64\n",
          "output_type": "stream"
        }
      ],
      "execution_count": 39
    },
    {
      "cell_type": "code",
      "source": "# ensure both X and y are of equal length or shape\nprint(len(X))\nprint(len(y))",
      "metadata": {
        "trusted": true
      },
      "outputs": [
        {
          "name": "stdout",
          "text": "375\n375\n",
          "output_type": "stream"
        }
      ],
      "execution_count": 40
    },
    {
      "cell_type": "code",
      "source": "# set random seed\nnp.random.seed(42)",
      "metadata": {
        "trusted": true
      },
      "outputs": [],
      "execution_count": 41
    },
    {
      "cell_type": "markdown",
      "source": "## Trial 1:  kNN",
      "metadata": {}
    },
    {
      "cell_type": "markdown",
      "source": "\nIntroduction:  The dataset is gathered from triaxial smartphone accelerometer user data.  The goal is to use these data to classify users' movements as accurately as possible, where the classes are 1=standing; 2=walking; 3=stairs down; and 4=stairs up.  This classification was achieved using a k-Nearest Neighbors (kNN) analysis.  kNN was chosen due to the three-dimensional nature of the independent variables.  Sklearn utilities KNeighborsClassifier and train-test-split were used to develop a model and derive predictions of the appropriate classes of movement based on accelerometer data. \n",
      "metadata": {}
    },
    {
      "cell_type": "markdown",
      "source": "\nMethods: Training and test data were read in using pandas. The original datasheets were viewed by the researcher to determine the points from which every tenth observation was counted.  A classification model was achieved using the kNN approach for reasons outlined above.  \n\n",
      "metadata": {}
    },
    {
      "cell_type": "code",
      "source": "# Split the data\n\nX_train, X_test, y_train, y_test = train_test_split(X, y, test_size = 0.2)",
      "metadata": {
        "trusted": true
      },
      "outputs": [],
      "execution_count": 42
    },
    {
      "cell_type": "code",
      "source": "# Instantiate kNN model\nknn = KNeighborsClassifier(n_neighbors=5)\nknn.fit(X_train, y_train)",
      "metadata": {
        "trusted": true
      },
      "outputs": [
        {
          "execution_count": 43,
          "output_type": "execute_result",
          "data": {
            "text/plain": "KNeighborsClassifier()",
            "text/html": "<style>#sk-container-id-4 {color: black;}#sk-container-id-4 pre{padding: 0;}#sk-container-id-4 div.sk-toggleable {background-color: white;}#sk-container-id-4 label.sk-toggleable__label {cursor: pointer;display: block;width: 100%;margin-bottom: 0;padding: 0.3em;box-sizing: border-box;text-align: center;}#sk-container-id-4 label.sk-toggleable__label-arrow:before {content: \"▸\";float: left;margin-right: 0.25em;color: #696969;}#sk-container-id-4 label.sk-toggleable__label-arrow:hover:before {color: black;}#sk-container-id-4 div.sk-estimator:hover label.sk-toggleable__label-arrow:before {color: black;}#sk-container-id-4 div.sk-toggleable__content {max-height: 0;max-width: 0;overflow: hidden;text-align: left;background-color: #f0f8ff;}#sk-container-id-4 div.sk-toggleable__content pre {margin: 0.2em;color: black;border-radius: 0.25em;background-color: #f0f8ff;}#sk-container-id-4 input.sk-toggleable__control:checked~div.sk-toggleable__content {max-height: 200px;max-width: 100%;overflow: auto;}#sk-container-id-4 input.sk-toggleable__control:checked~label.sk-toggleable__label-arrow:before {content: \"▾\";}#sk-container-id-4 div.sk-estimator input.sk-toggleable__control:checked~label.sk-toggleable__label {background-color: #d4ebff;}#sk-container-id-4 div.sk-label input.sk-toggleable__control:checked~label.sk-toggleable__label {background-color: #d4ebff;}#sk-container-id-4 input.sk-hidden--visually {border: 0;clip: rect(1px 1px 1px 1px);clip: rect(1px, 1px, 1px, 1px);height: 1px;margin: -1px;overflow: hidden;padding: 0;position: absolute;width: 1px;}#sk-container-id-4 div.sk-estimator {font-family: monospace;background-color: #f0f8ff;border: 1px dotted black;border-radius: 0.25em;box-sizing: border-box;margin-bottom: 0.5em;}#sk-container-id-4 div.sk-estimator:hover {background-color: #d4ebff;}#sk-container-id-4 div.sk-parallel-item::after {content: \"\";width: 100%;border-bottom: 1px solid gray;flex-grow: 1;}#sk-container-id-4 div.sk-label:hover label.sk-toggleable__label {background-color: #d4ebff;}#sk-container-id-4 div.sk-serial::before {content: \"\";position: absolute;border-left: 1px solid gray;box-sizing: border-box;top: 0;bottom: 0;left: 50%;z-index: 0;}#sk-container-id-4 div.sk-serial {display: flex;flex-direction: column;align-items: center;background-color: white;padding-right: 0.2em;padding-left: 0.2em;position: relative;}#sk-container-id-4 div.sk-item {position: relative;z-index: 1;}#sk-container-id-4 div.sk-parallel {display: flex;align-items: stretch;justify-content: center;background-color: white;position: relative;}#sk-container-id-4 div.sk-item::before, #sk-container-id-4 div.sk-parallel-item::before {content: \"\";position: absolute;border-left: 1px solid gray;box-sizing: border-box;top: 0;bottom: 0;left: 50%;z-index: -1;}#sk-container-id-4 div.sk-parallel-item {display: flex;flex-direction: column;z-index: 1;position: relative;background-color: white;}#sk-container-id-4 div.sk-parallel-item:first-child::after {align-self: flex-end;width: 50%;}#sk-container-id-4 div.sk-parallel-item:last-child::after {align-self: flex-start;width: 50%;}#sk-container-id-4 div.sk-parallel-item:only-child::after {width: 0;}#sk-container-id-4 div.sk-dashed-wrapped {border: 1px dashed gray;margin: 0 0.4em 0.5em 0.4em;box-sizing: border-box;padding-bottom: 0.4em;background-color: white;}#sk-container-id-4 div.sk-label label {font-family: monospace;font-weight: bold;display: inline-block;line-height: 1.2em;}#sk-container-id-4 div.sk-label-container {text-align: center;}#sk-container-id-4 div.sk-container {/* jupyter's `normalize.less` sets `[hidden] { display: none; }` but bootstrap.min.css set `[hidden] { display: none !important; }` so we also need the `!important` here to be able to override the default hidden behavior on the sphinx rendered scikit-learn.org. See: https://github.com/scikit-learn/scikit-learn/issues/21755 */display: inline-block !important;position: relative;}#sk-container-id-4 div.sk-text-repr-fallback {display: none;}</style><div id=\"sk-container-id-4\" class=\"sk-top-container\"><div class=\"sk-text-repr-fallback\"><pre>KNeighborsClassifier()</pre><b>In a Jupyter environment, please rerun this cell to show the HTML representation or trust the notebook. <br />On GitHub, the HTML representation is unable to render, please try loading this page with nbviewer.org.</b></div><div class=\"sk-container\" hidden><div class=\"sk-item\"><div class=\"sk-estimator sk-toggleable\"><input class=\"sk-toggleable__control sk-hidden--visually\" id=\"sk-estimator-id-4\" type=\"checkbox\" checked><label for=\"sk-estimator-id-4\" class=\"sk-toggleable__label sk-toggleable__label-arrow\">KNeighborsClassifier</label><div class=\"sk-toggleable__content\"><pre>KNeighborsClassifier()</pre></div></div></div></div></div>"
          },
          "metadata": {}
        }
      ],
      "execution_count": 43
    },
    {
      "cell_type": "code",
      "source": "# Predict presented data and store in appropriate variables\nMake_preds = df_test_ts.iloc[9::10].drop('UTC time', axis =1)\nMake_preds = Make_preds.drop('accuracy', axis =1)\nprint(len(Make_preds))\n#Make predictions for classification report purposes\nPred_labels_te = knn.predict(X_test)\n\n#Make predictions for current project\nProject_pred_lables_te = knn.predict(Make_preds)\n",
      "metadata": {
        "trusted": true
      },
      "outputs": [
        {
          "name": "stdout",
          "text": "125\n",
          "output_type": "stream"
        }
      ],
      "execution_count": 44
    },
    {
      "cell_type": "code",
      "source": "print(X_test)\nprint(Pred_labels_te)\nprint(len(Pred_labels_te))\n",
      "metadata": {
        "trusted": true
      },
      "outputs": [
        {
          "name": "stdout",
          "text": "      Unnamed: 0     timestamp         x         y         z\n1673       22259  1.565110e+12  0.007278 -0.744370  0.162964\n333        20919  1.565110e+12 -0.438858 -1.916260 -0.644577\n153        20739  1.565110e+12  0.083878 -0.950729 -0.048096\n3163       23749  1.565110e+12  0.618240 -1.144638  0.392334\n573        21159  1.565110e+12  0.624207 -0.983139 -0.387100\n...          ...           ...       ...       ...       ...\n943        21529  1.565110e+12  0.017471 -0.742752  0.127029\n1963       22549  1.565110e+12  0.395752 -1.168472  0.292664\n3503       24089  1.565110e+12  0.542786 -1.187042  0.527435\n3123       23709  1.565110e+12  0.257050 -0.921478  0.071121\n3493       24079  1.565110e+12  0.740326 -1.319458 -0.196182\n\n[75 rows x 5 columns]\n[3 2 2 2 2 2 2 4 3 4 3 2 3 2 2 2 1 2 2 4 1 3 2 3 3 1 2 3 1 4 2 4 2 2 3 4 2\n 2 1 3 3 3 2 2 4 4 2 2 1 2 3 1 3 2 2 2 2 1 2 2 4 2 2 2 2 2 3 3 2 2 2 2 2 2\n 2]\n75\n",
          "output_type": "stream"
        }
      ],
      "execution_count": 45
    },
    {
      "cell_type": "markdown",
      "source": "### Results:  Modeling results provided a list of predicted classes (movement types) for each set of x, y, z coordinates in the test data. Accuracy scores were calculated for training and test data.  Test accuracy scores indicate 96% accuracy, which is suspect given the complexity of the data.  Instructors were not available for further information on the dataset or verification of predictions. This student was given full marks for his submission.\n",
      "metadata": {}
    },
    {
      "cell_type": "code",
      "source": "knn.score(X_train, y_train)",
      "metadata": {
        "trusted": true
      },
      "outputs": [
        {
          "execution_count": 46,
          "output_type": "execute_result",
          "data": {
            "text/plain": "0.9933333333333333"
          },
          "metadata": {}
        }
      ],
      "execution_count": 46
    },
    {
      "cell_type": "code",
      "source": "knn.score(X_test, y_test)",
      "metadata": {
        "trusted": true
      },
      "outputs": [
        {
          "execution_count": 47,
          "output_type": "execute_result",
          "data": {
            "text/plain": "0.96"
          },
          "metadata": {}
        }
      ],
      "execution_count": 47
    },
    {
      "cell_type": "code",
      "source": "#calculate accuracy score\nAccuracy_score_test = knn.score(X_test, y_test)\nprint('Accuracy Score of test model: ', Accuracy_score_test)\nAccuracy_score_train = knn.score(X_train, y_train)\nprint('Accuracy Score of training model: ', Accuracy_score_train)\n\n#print classification reports to evaluate testing and training data further\nprint(df_test_labels)\nprint(len(df_test_labels))\nprint(Pred_labels_te)\nprint(len(Pred_labels_te))\nprint(classification_report(y_test, Pred_labels_te))",
      "metadata": {
        "trusted": true
      },
      "outputs": [
        {
          "name": "stdout",
          "text": "Accuracy Score of test model:  0.96\nAccuracy Score of training model:  0.9933333333333333\n     Unnamed: 0     timestamp                 UTC time  label\n0         24339  1.565110e+12  2019-08-06T16:51:47.041    NaN\n1         24349  1.565110e+12  2019-08-06T16:51:48.043    NaN\n2         24359  1.565110e+12  2019-08-06T16:51:49.046    NaN\n3         24369  1.565110e+12  2019-08-06T16:51:50.048    NaN\n4         24379  1.565110e+12  2019-08-06T16:51:51.050    NaN\n..          ...           ...                      ...    ...\n120       25539  1.565110e+12  2019-08-06T16:53:47.366    NaN\n121       25549  1.565110e+12  2019-08-06T16:53:48.369    NaN\n122       25559  1.565110e+12  2019-08-06T16:53:49.371    NaN\n123       25569  1.565110e+12  2019-08-06T16:53:50.373    NaN\n124       25579  1.565110e+12  2019-08-06T16:53:51.376    NaN\n\n[125 rows x 4 columns]\n125\n[3 2 2 2 2 2 2 4 3 4 3 2 3 2 2 2 1 2 2 4 1 3 2 3 3 1 2 3 1 4 2 4 2 2 3 4 2\n 2 1 3 3 3 2 2 4 4 2 2 1 2 3 1 3 2 2 2 2 1 2 2 4 2 2 2 2 2 3 3 2 2 2 2 2 2\n 2]\n75\n              precision    recall  f1-score   support\n\n           1       0.62      1.00      0.77         5\n           2       1.00      0.98      0.99        43\n           3       1.00      0.89      0.94        18\n           4       1.00      1.00      1.00         9\n\n    accuracy                           0.96        75\n   macro avg       0.91      0.97      0.92        75\nweighted avg       0.97      0.96      0.96        75\n\n",
          "output_type": "stream"
        }
      ],
      "execution_count": 48
    },
    {
      "cell_type": "code",
      "source": "#save X_test predictions to csv\nX_test['Predicted Labels'] = Pred_labels_te\nPred_X_test_labels = X_test\nprint(Pred_X_test_labels)\nPred_X_test_labels.to_csv('data/Predicted_X_test_Labels.csv')",
      "metadata": {
        "trusted": true
      },
      "outputs": [
        {
          "name": "stdout",
          "text": "      Unnamed: 0     timestamp         x         y         z  Predicted Labels\n1673       22259  1.565110e+12  0.007278 -0.744370  0.162964                 3\n333        20919  1.565110e+12 -0.438858 -1.916260 -0.644577                 2\n153        20739  1.565110e+12  0.083878 -0.950729 -0.048096                 2\n3163       23749  1.565110e+12  0.618240 -1.144638  0.392334                 2\n573        21159  1.565110e+12  0.624207 -0.983139 -0.387100                 2\n...          ...           ...       ...       ...       ...               ...\n943        21529  1.565110e+12  0.017471 -0.742752  0.127029                 2\n1963       22549  1.565110e+12  0.395752 -1.168472  0.292664                 2\n3503       24089  1.565110e+12  0.542786 -1.187042  0.527435                 2\n3123       23709  1.565110e+12  0.257050 -0.921478  0.071121                 2\n3493       24079  1.565110e+12  0.740326 -1.319458 -0.196182                 2\n\n[75 rows x 6 columns]\n",
          "output_type": "stream"
        }
      ],
      "execution_count": 49
    },
    {
      "cell_type": "code",
      "source": "#insert predictions into provided csv file\ndf_test_labels['label'] = Project_pred_lables_te\nFinal_predictions = df_test_labels\nprint(Final_predictions)\nFinal_predictions.to_csv('data/Final_predictions.csv')",
      "metadata": {
        "trusted": true
      },
      "outputs": [
        {
          "name": "stdout",
          "text": "     Unnamed: 0     timestamp                 UTC time  label\n0         24339  1.565110e+12  2019-08-06T16:51:47.041      4\n1         24349  1.565110e+12  2019-08-06T16:51:48.043      4\n2         24359  1.565110e+12  2019-08-06T16:51:49.046      4\n3         24369  1.565110e+12  2019-08-06T16:51:50.048      4\n4         24379  1.565110e+12  2019-08-06T16:51:51.050      4\n..          ...           ...                      ...    ...\n120       25539  1.565110e+12  2019-08-06T16:53:47.366      4\n121       25549  1.565110e+12  2019-08-06T16:53:48.369      4\n122       25559  1.565110e+12  2019-08-06T16:53:49.371      4\n123       25569  1.565110e+12  2019-08-06T16:53:50.373      4\n124       25579  1.565110e+12  2019-08-06T16:53:51.376      4\n\n[125 rows x 4 columns]\n",
          "output_type": "stream"
        }
      ],
      "execution_count": 50
    },
    {
      "cell_type": "code",
      "source": "end_0 = time.perf_counter() \nrun_time_0 = end_0 - start_0\nprint(\"The run time for this process was: \" + str(run_time_0))",
      "metadata": {
        "trusted": true
      },
      "outputs": [
        {
          "name": "stdout",
          "text": "The run time for this process was: 13.456000000000017\n",
          "output_type": "stream"
        }
      ],
      "execution_count": 51
    },
    {
      "cell_type": "markdown",
      "source": "## Additional ML algorithm trials:",
      "metadata": {}
    },
    {
      "cell_type": "markdown",
      "source": "### Trial 2:  LinearSVC",
      "metadata": {}
    },
    {
      "cell_type": "code",
      "source": "from sklearn.svm import LinearSVC\n\n# Set up random seed\nnp.random.seed(42)\n\n# Make the data\nX = X = df_train_ts.iloc[3::10, 4:7]\ny = df_train_labels['label']\n\n# Split the data\nX_train, X_test, y_train, y_test = train_test_split(X, y, test_size = 0.2)\n\n# Instantiate Linear SVC\nclf = LinearSVC()\nclf.fit(X_train, y_train)\n\n# Evaluate the Linear SVC\nclf.score(X_test, y_test)",
      "metadata": {
        "trusted": true
      },
      "outputs": [
        {
          "name": "stderr",
          "text": "/lib/python3.11/site-packages/sklearn/svm/_classes.py:32: FutureWarning: The default value of `dual` will change from `True` to `'auto'` in 1.5. Set the value of `dual` explicitly to suppress the warning.\n  warnings.warn(\n",
          "output_type": "stream"
        },
        {
          "execution_count": 52,
          "output_type": "execute_result",
          "data": {
            "text/plain": "0.5733333333333334"
          },
          "metadata": {}
        }
      ],
      "execution_count": 52
    },
    {
      "cell_type": "markdown",
      "source": "### Trial 3:  Support Vector Machines (SVM)",
      "metadata": {}
    },
    {
      "cell_type": "code",
      "source": "from sklearn import svm\nfrom sklearn.svm import SVC",
      "metadata": {
        "trusted": true
      },
      "outputs": [],
      "execution_count": 53
    },
    {
      "cell_type": "code",
      "source": "### try more pre-processing to improve the results\n#from sklearn.pipeline import make_pipeline\n#from sklearn.preprocessing import StandardScaler\n\n\n#clf = make_pipeline(StandardScaler(), SVC())",
      "metadata": {
        "trusted": true
      },
      "outputs": [],
      "execution_count": 54
    },
    {
      "cell_type": "code",
      "source": "clf = svm.SVC()\nclf.fit(X_train, y_train)\nSVC();",
      "metadata": {
        "trusted": true
      },
      "outputs": [],
      "execution_count": 55
    },
    {
      "cell_type": "code",
      "source": "clf.score(X_test, y_test)",
      "metadata": {
        "trusted": true
      },
      "outputs": [
        {
          "execution_count": 56,
          "output_type": "execute_result",
          "data": {
            "text/plain": "0.5733333333333334"
          },
          "metadata": {}
        }
      ],
      "execution_count": 56
    },
    {
      "cell_type": "markdown",
      "source": "### Trial 4:  Gradient Boosting Classifier",
      "metadata": {}
    },
    {
      "cell_type": "code",
      "source": "from sklearn.datasets import make_hastie_10_2\nfrom sklearn.ensemble import GradientBoostingClassifier",
      "metadata": {
        "trusted": true
      },
      "outputs": [],
      "execution_count": 57
    },
    {
      "cell_type": "code",
      "source": "X, y = make_hastie_10_2(random_state=0)\nclf = GradientBoostingClassifier(n_estimators=5, learning_rate=1.0, max_depth=1, random_state=0).fit(X_train, y_train)\nclf.score(X_test, y_test)",
      "metadata": {
        "trusted": true
      },
      "outputs": [
        {
          "execution_count": 58,
          "output_type": "execute_result",
          "data": {
            "text/plain": "0.5466666666666666"
          },
          "metadata": {}
        }
      ],
      "execution_count": 58
    },
    {
      "cell_type": "markdown",
      "source": "### Trial 5:  Spectral Clustering",
      "metadata": {}
    },
    {
      "cell_type": "code",
      "source": "from sklearn.cluster import SpectralClustering\n\nclf = SpectralClustering(random_state=0).fit(X_train, y_train)\n\nSpectralClustering(n_clusters=4, random_state=0)",
      "metadata": {
        "trusted": true
      },
      "outputs": [
        {
          "execution_count": 59,
          "output_type": "execute_result",
          "data": {
            "text/plain": "SpectralClustering(n_clusters=4, random_state=0)",
            "text/html": "<style>#sk-container-id-5 {color: black;}#sk-container-id-5 pre{padding: 0;}#sk-container-id-5 div.sk-toggleable {background-color: white;}#sk-container-id-5 label.sk-toggleable__label {cursor: pointer;display: block;width: 100%;margin-bottom: 0;padding: 0.3em;box-sizing: border-box;text-align: center;}#sk-container-id-5 label.sk-toggleable__label-arrow:before {content: \"▸\";float: left;margin-right: 0.25em;color: #696969;}#sk-container-id-5 label.sk-toggleable__label-arrow:hover:before {color: black;}#sk-container-id-5 div.sk-estimator:hover label.sk-toggleable__label-arrow:before {color: black;}#sk-container-id-5 div.sk-toggleable__content {max-height: 0;max-width: 0;overflow: hidden;text-align: left;background-color: #f0f8ff;}#sk-container-id-5 div.sk-toggleable__content pre {margin: 0.2em;color: black;border-radius: 0.25em;background-color: #f0f8ff;}#sk-container-id-5 input.sk-toggleable__control:checked~div.sk-toggleable__content {max-height: 200px;max-width: 100%;overflow: auto;}#sk-container-id-5 input.sk-toggleable__control:checked~label.sk-toggleable__label-arrow:before {content: \"▾\";}#sk-container-id-5 div.sk-estimator input.sk-toggleable__control:checked~label.sk-toggleable__label {background-color: #d4ebff;}#sk-container-id-5 div.sk-label input.sk-toggleable__control:checked~label.sk-toggleable__label {background-color: #d4ebff;}#sk-container-id-5 input.sk-hidden--visually {border: 0;clip: rect(1px 1px 1px 1px);clip: rect(1px, 1px, 1px, 1px);height: 1px;margin: -1px;overflow: hidden;padding: 0;position: absolute;width: 1px;}#sk-container-id-5 div.sk-estimator {font-family: monospace;background-color: #f0f8ff;border: 1px dotted black;border-radius: 0.25em;box-sizing: border-box;margin-bottom: 0.5em;}#sk-container-id-5 div.sk-estimator:hover {background-color: #d4ebff;}#sk-container-id-5 div.sk-parallel-item::after {content: \"\";width: 100%;border-bottom: 1px solid gray;flex-grow: 1;}#sk-container-id-5 div.sk-label:hover label.sk-toggleable__label {background-color: #d4ebff;}#sk-container-id-5 div.sk-serial::before {content: \"\";position: absolute;border-left: 1px solid gray;box-sizing: border-box;top: 0;bottom: 0;left: 50%;z-index: 0;}#sk-container-id-5 div.sk-serial {display: flex;flex-direction: column;align-items: center;background-color: white;padding-right: 0.2em;padding-left: 0.2em;position: relative;}#sk-container-id-5 div.sk-item {position: relative;z-index: 1;}#sk-container-id-5 div.sk-parallel {display: flex;align-items: stretch;justify-content: center;background-color: white;position: relative;}#sk-container-id-5 div.sk-item::before, #sk-container-id-5 div.sk-parallel-item::before {content: \"\";position: absolute;border-left: 1px solid gray;box-sizing: border-box;top: 0;bottom: 0;left: 50%;z-index: -1;}#sk-container-id-5 div.sk-parallel-item {display: flex;flex-direction: column;z-index: 1;position: relative;background-color: white;}#sk-container-id-5 div.sk-parallel-item:first-child::after {align-self: flex-end;width: 50%;}#sk-container-id-5 div.sk-parallel-item:last-child::after {align-self: flex-start;width: 50%;}#sk-container-id-5 div.sk-parallel-item:only-child::after {width: 0;}#sk-container-id-5 div.sk-dashed-wrapped {border: 1px dashed gray;margin: 0 0.4em 0.5em 0.4em;box-sizing: border-box;padding-bottom: 0.4em;background-color: white;}#sk-container-id-5 div.sk-label label {font-family: monospace;font-weight: bold;display: inline-block;line-height: 1.2em;}#sk-container-id-5 div.sk-label-container {text-align: center;}#sk-container-id-5 div.sk-container {/* jupyter's `normalize.less` sets `[hidden] { display: none; }` but bootstrap.min.css set `[hidden] { display: none !important; }` so we also need the `!important` here to be able to override the default hidden behavior on the sphinx rendered scikit-learn.org. See: https://github.com/scikit-learn/scikit-learn/issues/21755 */display: inline-block !important;position: relative;}#sk-container-id-5 div.sk-text-repr-fallback {display: none;}</style><div id=\"sk-container-id-5\" class=\"sk-top-container\"><div class=\"sk-text-repr-fallback\"><pre>SpectralClustering(n_clusters=4, random_state=0)</pre><b>In a Jupyter environment, please rerun this cell to show the HTML representation or trust the notebook. <br />On GitHub, the HTML representation is unable to render, please try loading this page with nbviewer.org.</b></div><div class=\"sk-container\" hidden><div class=\"sk-item\"><div class=\"sk-estimator sk-toggleable\"><input class=\"sk-toggleable__control sk-hidden--visually\" id=\"sk-estimator-id-5\" type=\"checkbox\" checked><label for=\"sk-estimator-id-5\" class=\"sk-toggleable__label sk-toggleable__label-arrow\">SpectralClustering</label><div class=\"sk-toggleable__content\"><pre>SpectralClustering(n_clusters=4, random_state=0)</pre></div></div></div></div></div>"
          },
          "metadata": {}
        }
      ],
      "execution_count": 59
    },
    {
      "cell_type": "markdown",
      "source": "### Trial 6:  SGD Classifier",
      "metadata": {}
    },
    {
      "cell_type": "code",
      "source": "from sklearn.linear_model import SGDClassifier\nclf = SGDClassifier(loss=\"hinge\", penalty=\"l2\", max_iter=5)\nclf.fit(X_train, y_train)\nSGDClassifier(max_iter=10)",
      "metadata": {
        "trusted": true
      },
      "outputs": [
        {
          "name": "stderr",
          "text": "/lib/python3.11/site-packages/sklearn/linear_model/_stochastic_gradient.py:713: ConvergenceWarning: Maximum number of iteration reached before convergence. Consider increasing max_iter to improve the fit.\n  warnings.warn(\n",
          "output_type": "stream"
        },
        {
          "execution_count": 60,
          "output_type": "execute_result",
          "data": {
            "text/plain": "SGDClassifier(max_iter=10)",
            "text/html": "<style>#sk-container-id-6 {color: black;}#sk-container-id-6 pre{padding: 0;}#sk-container-id-6 div.sk-toggleable {background-color: white;}#sk-container-id-6 label.sk-toggleable__label {cursor: pointer;display: block;width: 100%;margin-bottom: 0;padding: 0.3em;box-sizing: border-box;text-align: center;}#sk-container-id-6 label.sk-toggleable__label-arrow:before {content: \"▸\";float: left;margin-right: 0.25em;color: #696969;}#sk-container-id-6 label.sk-toggleable__label-arrow:hover:before {color: black;}#sk-container-id-6 div.sk-estimator:hover label.sk-toggleable__label-arrow:before {color: black;}#sk-container-id-6 div.sk-toggleable__content {max-height: 0;max-width: 0;overflow: hidden;text-align: left;background-color: #f0f8ff;}#sk-container-id-6 div.sk-toggleable__content pre {margin: 0.2em;color: black;border-radius: 0.25em;background-color: #f0f8ff;}#sk-container-id-6 input.sk-toggleable__control:checked~div.sk-toggleable__content {max-height: 200px;max-width: 100%;overflow: auto;}#sk-container-id-6 input.sk-toggleable__control:checked~label.sk-toggleable__label-arrow:before {content: \"▾\";}#sk-container-id-6 div.sk-estimator input.sk-toggleable__control:checked~label.sk-toggleable__label {background-color: #d4ebff;}#sk-container-id-6 div.sk-label input.sk-toggleable__control:checked~label.sk-toggleable__label {background-color: #d4ebff;}#sk-container-id-6 input.sk-hidden--visually {border: 0;clip: rect(1px 1px 1px 1px);clip: rect(1px, 1px, 1px, 1px);height: 1px;margin: -1px;overflow: hidden;padding: 0;position: absolute;width: 1px;}#sk-container-id-6 div.sk-estimator {font-family: monospace;background-color: #f0f8ff;border: 1px dotted black;border-radius: 0.25em;box-sizing: border-box;margin-bottom: 0.5em;}#sk-container-id-6 div.sk-estimator:hover {background-color: #d4ebff;}#sk-container-id-6 div.sk-parallel-item::after {content: \"\";width: 100%;border-bottom: 1px solid gray;flex-grow: 1;}#sk-container-id-6 div.sk-label:hover label.sk-toggleable__label {background-color: #d4ebff;}#sk-container-id-6 div.sk-serial::before {content: \"\";position: absolute;border-left: 1px solid gray;box-sizing: border-box;top: 0;bottom: 0;left: 50%;z-index: 0;}#sk-container-id-6 div.sk-serial {display: flex;flex-direction: column;align-items: center;background-color: white;padding-right: 0.2em;padding-left: 0.2em;position: relative;}#sk-container-id-6 div.sk-item {position: relative;z-index: 1;}#sk-container-id-6 div.sk-parallel {display: flex;align-items: stretch;justify-content: center;background-color: white;position: relative;}#sk-container-id-6 div.sk-item::before, #sk-container-id-6 div.sk-parallel-item::before {content: \"\";position: absolute;border-left: 1px solid gray;box-sizing: border-box;top: 0;bottom: 0;left: 50%;z-index: -1;}#sk-container-id-6 div.sk-parallel-item {display: flex;flex-direction: column;z-index: 1;position: relative;background-color: white;}#sk-container-id-6 div.sk-parallel-item:first-child::after {align-self: flex-end;width: 50%;}#sk-container-id-6 div.sk-parallel-item:last-child::after {align-self: flex-start;width: 50%;}#sk-container-id-6 div.sk-parallel-item:only-child::after {width: 0;}#sk-container-id-6 div.sk-dashed-wrapped {border: 1px dashed gray;margin: 0 0.4em 0.5em 0.4em;box-sizing: border-box;padding-bottom: 0.4em;background-color: white;}#sk-container-id-6 div.sk-label label {font-family: monospace;font-weight: bold;display: inline-block;line-height: 1.2em;}#sk-container-id-6 div.sk-label-container {text-align: center;}#sk-container-id-6 div.sk-container {/* jupyter's `normalize.less` sets `[hidden] { display: none; }` but bootstrap.min.css set `[hidden] { display: none !important; }` so we also need the `!important` here to be able to override the default hidden behavior on the sphinx rendered scikit-learn.org. See: https://github.com/scikit-learn/scikit-learn/issues/21755 */display: inline-block !important;position: relative;}#sk-container-id-6 div.sk-text-repr-fallback {display: none;}</style><div id=\"sk-container-id-6\" class=\"sk-top-container\"><div class=\"sk-text-repr-fallback\"><pre>SGDClassifier(max_iter=10)</pre><b>In a Jupyter environment, please rerun this cell to show the HTML representation or trust the notebook. <br />On GitHub, the HTML representation is unable to render, please try loading this page with nbviewer.org.</b></div><div class=\"sk-container\" hidden><div class=\"sk-item\"><div class=\"sk-estimator sk-toggleable\"><input class=\"sk-toggleable__control sk-hidden--visually\" id=\"sk-estimator-id-6\" type=\"checkbox\" checked><label for=\"sk-estimator-id-6\" class=\"sk-toggleable__label sk-toggleable__label-arrow\">SGDClassifier</label><div class=\"sk-toggleable__content\"><pre>SGDClassifier(max_iter=10)</pre></div></div></div></div></div>"
          },
          "metadata": {}
        }
      ],
      "execution_count": 60
    },
    {
      "cell_type": "code",
      "source": "clf.score(X_test, y_test)",
      "metadata": {
        "trusted": true
      },
      "outputs": [
        {
          "execution_count": 61,
          "output_type": "execute_result",
          "data": {
            "text/plain": "0.49333333333333335"
          },
          "metadata": {}
        }
      ],
      "execution_count": 61
    },
    {
      "cell_type": "markdown",
      "source": "### Trial 7:  Random Forest Classifier",
      "metadata": {}
    },
    {
      "cell_type": "code",
      "source": "from sklearn.ensemble import RandomForestClassifier\n\n# Set up random seed\nnp.random.seed(42)\n\n# Make the data\nX = X = df_train_ts.iloc[3::10, 4:7]\ny = df_train_labels['label']\n\n# Split the data\nX_train, X_test, y_train, y_test = train_test_split(X, y, test_size = 0.2)\n\n# Instantiate the Random Forest Classifier\nclf = RandomForestClassifier(n_estimators = 100)\nclf.fit(X_train, y_train)\n\n# Evaluate the Random Forest Classifier\nprint(clf.score(X_train, y_train))\nprint(clf.score(X_test, y_test))",
      "metadata": {
        "trusted": true
      },
      "outputs": [
        {
          "name": "stdout",
          "text": "1.0\n0.5333333333333333\n",
          "output_type": "stream"
        }
      ],
      "execution_count": 62
    },
    {
      "cell_type": "code",
      "source": "from sklearn.model_selection import cross_val_score\nnp.random.seed(42)\n\ncvs = cross_val_score(clf, X, y, cv = 5)",
      "metadata": {
        "trusted": true
      },
      "outputs": [],
      "execution_count": 63
    },
    {
      "cell_type": "code",
      "source": "np.mean(cvs)",
      "metadata": {
        "trusted": true
      },
      "outputs": [
        {
          "execution_count": 64,
          "output_type": "execute_result",
          "data": {
            "text/plain": "0.5813333333333334"
          },
          "metadata": {}
        }
      ],
      "execution_count": 64
    },
    {
      "cell_type": "markdown",
      "source": "### Trial 8: Logistic Regression",
      "metadata": {}
    },
    {
      "cell_type": "code",
      "source": "# Split the data into training and testing sets\n\nX_train, X_test, y_train, y_test = train_test_split(X, y, test_size = 0.2)\n",
      "metadata": {
        "trusted": true
      },
      "outputs": [],
      "execution_count": 65
    },
    {
      "cell_type": "code",
      "source": "from sklearn.linear_model import LogisticRegression\n\nclf = LogisticRegression(random_state=0).fit(X_train, y_train)",
      "metadata": {
        "trusted": true
      },
      "outputs": [],
      "execution_count": 66
    },
    {
      "cell_type": "code",
      "source": "clf.score(X_test, y_test)\n",
      "metadata": {
        "trusted": true
      },
      "outputs": [
        {
          "execution_count": 67,
          "output_type": "execute_result",
          "data": {
            "text/plain": "0.6"
          },
          "metadata": {}
        }
      ],
      "execution_count": 67
    },
    {
      "cell_type": "code",
      "source": "",
      "metadata": {
        "trusted": true
      },
      "outputs": [],
      "execution_count": null
    }
  ]
}
